{
 "cells": [
  {
   "cell_type": "markdown",
   "metadata": {},
   "source": [
    "This script show that $\\frac{\\partial}{\\partial A}\\mathrm{Tr} P = U$, where $A = UP$ is polar decompostion. "
   ]
  },
  {
   "cell_type": "code",
   "execution_count": 50,
   "metadata": {},
   "outputs": [
    {
     "name": "stdout",
     "output_type": "stream",
     "text": [
      "[[-0.66183144 -0.08472254  0.81659021 -0.94025356]\n",
      " [-0.48487801  0.89701372 -0.52531008 -1.01026165]\n",
      " [-0.50036886 -0.79846795  0.46921244  2.08268852]\n",
      " [-0.45394071 -0.49700556  0.2428076  -0.87267715]]\n",
      "[[-0.66183134 -0.08472254  0.81659021 -0.94025356]\n",
      " [-0.48487801  0.89701372 -0.52531008 -1.01026165]\n",
      " [-0.50036886 -0.79846795  0.46921244  2.08268852]\n",
      " [-0.45394071 -0.49700556  0.2428076  -0.87267715]]\n"
     ]
    }
   ],
   "source": [
    "import numpy as np\n",
    "from scipy.linalg import polar\n",
    "\n",
    "dx = 1e-7 # perturbation\n",
    "i, j = 0, 0 # entity location\n",
    "\n",
    "a = np.random.randn(4,4)\n",
    "print(a)\n",
    "\n",
    "b = np.copy(a)\n",
    "b[i][j] = a[i][j] + dx # add perturbation on one entity\n",
    "print(b)"
   ]
  },
  {
   "cell_type": "code",
   "execution_count": 51,
   "metadata": {},
   "outputs": [
    {
     "name": "stdout",
     "output_type": "stream",
     "text": [
      "[[-5.06753495e-08 -1.91040878e-10  3.73428761e-08 -2.54860746e-08]\n",
      " [-1.91040822e-10  3.40534489e-10  2.73866152e-10  3.95317556e-10]\n",
      " [ 3.73428761e-08  2.73866152e-10  1.27497867e-08 -4.10513555e-09]\n",
      " [-2.54860745e-08  3.95317556e-10 -4.10513556e-09  1.71970749e-09]]\n",
      "-0.35865320824335356\n",
      "-0.35865324045508995\n"
     ]
    }
   ],
   "source": [
    "au, ap = polar(a)\n",
    "bu, bp = polar(b)\n",
    "print(bp - ap)\n",
    "\n",
    "# very close result...\n",
    "print(np.trace(bp - ap) / dx) # not right definition\n",
    "print((np.trace(bp)-np.trace(ap))/dx)\n",
    "print(au[i][j])"
   ]
  },
  {
   "cell_type": "code",
   "execution_count": null,
   "metadata": {},
   "outputs": [],
   "source": []
  }
 ],
 "metadata": {
  "kernelspec": {
   "display_name": "Python 3",
   "language": "python",
   "name": "python3"
  },
  "language_info": {
   "codemirror_mode": {
    "name": "ipython",
    "version": 3
   },
   "file_extension": ".py",
   "mimetype": "text/x-python",
   "name": "python",
   "nbconvert_exporter": "python",
   "pygments_lexer": "ipython3",
   "version": "3.5.2"
  }
 },
 "nbformat": 4,
 "nbformat_minor": 2
}
