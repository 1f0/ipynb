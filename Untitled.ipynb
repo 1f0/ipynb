{
 "cells": [
  {
   "cell_type": "code",
   "execution_count": 1,
   "metadata": {},
   "outputs": [],
   "source": [
    "def f(x, y):\n",
    "    return 5 -(x-3)**2 - (y-4)**2"
   ]
  },
  {
   "cell_type": "code",
   "execution_count": 2,
   "metadata": {},
   "outputs": [],
   "source": [
    "from bayes_opt import BayesianOptimization"
   ]
  },
  {
   "cell_type": "code",
   "execution_count": 5,
   "metadata": {},
   "outputs": [],
   "source": [
    "optimizer = BayesianOptimization(\n",
    "    f=f,\n",
    "    pbounds={'x':(0,10),'y':(0,10)},\n",
    "    verbose=2,\n",
    "    random_state=1\n",
    ")"
   ]
  },
  {
   "cell_type": "code",
   "execution_count": 7,
   "metadata": {},
   "outputs": [
    {
     "name": "stdout",
     "output_type": "stream",
     "text": [
      "|   iter    |  target   |     x     |     y     |\n",
      "-------------------------------------------------\n",
      "| \u001b[0m 7       \u001b[0m | \u001b[0m-4.947   \u001b[0m | \u001b[0m 0.001144\u001b[0m | \u001b[0m 3.023   \u001b[0m |\n",
      "| \u001b[95m 8       \u001b[0m | \u001b[95m 0.01102 \u001b[0m | \u001b[95m 2.055   \u001b[0m | \u001b[95m 1.976   \u001b[0m |\n",
      "| \u001b[95m 9       \u001b[0m | \u001b[95m 1.394   \u001b[0m | \u001b[95m 1.995   \u001b[0m | \u001b[95m 2.389   \u001b[0m |\n",
      "| \u001b[95m 10      \u001b[0m | \u001b[95m 2.436   \u001b[0m | \u001b[95m 2.123   \u001b[0m | \u001b[95m 2.66    \u001b[0m |\n",
      "| \u001b[95m 11      \u001b[0m | \u001b[95m 3.125   \u001b[0m | \u001b[95m 2.434   \u001b[0m | \u001b[95m 2.753   \u001b[0m |\n",
      "| \u001b[95m 12      \u001b[0m | \u001b[95m 3.639   \u001b[0m | \u001b[95m 2.467   \u001b[0m | \u001b[95m 2.962   \u001b[0m |\n",
      "| \u001b[95m 13      \u001b[0m | \u001b[95m 4.145   \u001b[0m | \u001b[95m 2.489   \u001b[0m | \u001b[95m 3.229   \u001b[0m |\n",
      "| \u001b[95m 14      \u001b[0m | \u001b[95m 4.524   \u001b[0m | \u001b[95m 2.692   \u001b[0m | \u001b[95m 3.382   \u001b[0m |\n",
      "| \u001b[95m 15      \u001b[0m | \u001b[95m 4.741   \u001b[0m | \u001b[95m 2.692   \u001b[0m | \u001b[95m 3.596   \u001b[0m |\n",
      "| \u001b[95m 16      \u001b[0m | \u001b[95m 4.889   \u001b[0m | \u001b[95m 2.872   \u001b[0m | \u001b[95m 3.693   \u001b[0m |\n",
      "| \u001b[95m 17      \u001b[0m | \u001b[95m 4.967   \u001b[0m | \u001b[95m 2.853   \u001b[0m | \u001b[95m 3.894   \u001b[0m |\n",
      "| \u001b[95m 18      \u001b[0m | \u001b[95m 4.995   \u001b[0m | \u001b[95m 3.04    \u001b[0m | \u001b[95m 3.946   \u001b[0m |\n",
      "| \u001b[0m 19      \u001b[0m | \u001b[0m 4.987   \u001b[0m | \u001b[0m 2.986   \u001b[0m | \u001b[0m 4.114   \u001b[0m |\n",
      "=================================================\n"
     ]
    }
   ],
   "source": [
    "optimizer.maximize(init_points=1,n_iter=12)"
   ]
  },
  {
   "cell_type": "code",
   "execution_count": 3,
   "metadata": {},
   "outputs": [
    {
     "data": {
      "text/latex": [
       "$e^{i\\pi} + 1 = 0$\n"
      ],
      "text/plain": [
       "<IPython.core.display.Latex object>"
      ]
     },
     "metadata": {},
     "output_type": "display_data"
    }
   ],
   "source": [
    "%%latex\n",
    "$e^{i\\pi} + 1 = 0$"
   ]
  }
 ],
 "metadata": {
  "kernelspec": {
   "display_name": "Python 3",
   "language": "python",
   "name": "python3"
  },
  "language_info": {
   "codemirror_mode": {
    "name": "ipython",
    "version": 3
   },
   "file_extension": ".py",
   "mimetype": "text/x-python",
   "name": "python",
   "nbconvert_exporter": "python",
   "pygments_lexer": "ipython3",
   "version": "3.5.2"
  }
 },
 "nbformat": 4,
 "nbformat_minor": 2
}
